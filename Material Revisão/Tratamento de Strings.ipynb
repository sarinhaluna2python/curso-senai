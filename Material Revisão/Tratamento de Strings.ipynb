{
 "cells": [
  {
   "cell_type": "markdown",
   "id": "423a416a",
   "metadata": {
    "id": "423a416a"
   },
   "source": [
    "### Tratamentos de Texto (string)\n",
    "\n",
    "Objetivo: Mostrar a importância de manipular textos em programação.\n",
    "\n",
    "\n",
    "\n",
    "\"Vocês já pensaram como os apps sabem seu nome quando você faz login? Ou como o Instagram mostra seu username em letras minúsculas? Tudo isso usa tratamento de strings!\"\n",
    "\n",
    "O que é uma String?\n",
    "\n",
    "Sequência de caracteres (letras, números, símbolos).\n",
    "\n",
    "Em Python, vem entre \"aspas\"."
   ]
  },
  {
   "cell_type": "markdown",
   "id": "877e43f3",
   "metadata": {},
   "source": [
    "### Formatação de strings (f-string)"
   ]
  },
  {
   "cell_type": "code",
   "execution_count": null,
   "id": "4e14e147",
   "metadata": {},
   "outputs": [],
   "source": [
    "nome = 'Caio'\n",
    "curso = 'Matemática'\n",
    "string_formatada = f'Olá {nome}. Você está estudando {curso}'\n",
    "print(string_formatada)"
   ]
  },
  {
   "cell_type": "markdown",
   "id": "edbcd67b",
   "metadata": {},
   "source": [
    "### Formatação de strings (.format())"
   ]
  },
  {
   "cell_type": "code",
   "execution_count": null,
   "id": "fe581fe4",
   "metadata": {},
   "outputs": [],
   "source": [
    "nome = 'Johnny'\n",
    "curso = 'Python'\n",
    "string_formatada = 'Olá {}. Você está estudando {}'.format(nome, curso)\n",
    "print(string_formatada)"
   ]
  },
  {
   "cell_type": "markdown",
   "id": "5f38bab9",
   "metadata": {
    "id": "5f38bab9"
   },
   "source": [
    "### 2 - Operações Básicas com strings (textos)\n",
    "\n",
    "a) Juntar textos ou em outras palavras concatenar"
   ]
  },
  {
   "cell_type": "code",
   "execution_count": null,
   "id": "5cd6b8e7",
   "metadata": {
    "id": "5cd6b8e7",
    "outputId": "eb36e80a-06d3-415f-e35b-356956ddaf56"
   },
   "outputs": [],
   "source": [
    "nome = \"Mateus\"\n",
    "sobrenome = \"Silva\"\n",
    "nome_completo = nome + \" \" + sobrenome\n",
    "print(nome_completo)"
   ]
  },
  {
   "cell_type": "markdown",
   "id": "f2fddf3a",
   "metadata": {
    "id": "f2fddf3a"
   },
   "source": [
    "b) Tamanho da String\n"
   ]
  },
  {
   "cell_type": "code",
   "execution_count": null,
   "id": "1a01fe4d",
   "metadata": {
    "id": "1a01fe4d",
    "outputId": "04d170c8-ea4c-460d-fd55-1f5b4dcf3659"
   },
   "outputs": [],
   "source": [
    "nome = 'Sarah'\n",
    "tamanho = len(nome)\n",
    "print(tamanho)"
   ]
  },
  {
   "cell_type": "markdown",
   "id": "6222c7c4",
   "metadata": {
    "id": "6222c7c4"
   },
   "source": [
    "c) Acessar Letras (Índices)"
   ]
  },
  {
   "cell_type": "code",
   "execution_count": null,
   "id": "ea430c45",
   "metadata": {},
   "outputs": [],
   "source": [
    "nome[0]\n"
   ]
  },
  {
   "cell_type": "code",
   "execution_count": null,
   "id": "21af5f71",
   "metadata": {
    "id": "21af5f71"
   },
   "outputs": [],
   "source": [
    "frase = \"Olá meus garotos(as) de Programação\"\n",
    "print(frase[0])   # 'O' (primeira letra)\n",
    "print(frase[-1])  # 'o' (última letra)"
   ]
  },
  {
   "cell_type": "markdown",
   "id": "05b42fdb",
   "metadata": {
    "id": "05b42fdb"
   },
   "source": [
    "d) Fatiamento (Slicing)"
   ]
  },
  {
   "cell_type": "code",
   "execution_count": null,
   "id": "d04f5b88",
   "metadata": {},
   "outputs": [],
   "source": [
    "frase = 'Estou com sono'"
   ]
  },
  {
   "cell_type": "code",
   "execution_count": null,
   "id": "baef3b04",
   "metadata": {},
   "outputs": [],
   "source": [
    "print(frase[:])\n",
    "print(frase[4:8])\n",
    "print(frase[9])\n",
    "print(frase[:9])\n",
    "print(frase[9:])"
   ]
  },
  {
   "cell_type": "code",
   "execution_count": null,
   "id": "50f44874",
   "metadata": {
    "id": "50f44874"
   },
   "outputs": [],
   "source": [
    "email = \"mateus@gmail.com\"\n",
    "print(email[:7])    # \"mateus\" (do início até o índice 6)\n",
    "print(email[8:13])  # \"gmail\" (do índice 8 ao 12)"
   ]
  },
  {
   "cell_type": "markdown",
   "id": "6f09cf29",
   "metadata": {
    "id": "6f09cf29"
   },
   "source": [
    "### 3. Métodos Úteis"
   ]
  },
  {
   "cell_type": "markdown",
   "id": "0f891d89",
   "metadata": {
    "id": "0f891d89"
   },
   "source": [
    "a) Conversão de minúsculas para maiúsculas"
   ]
  },
  {
   "cell_type": "code",
   "execution_count": null,
   "id": "87ea68e5",
   "metadata": {},
   "outputs": [],
   "source": [
    "email.upper()"
   ]
  },
  {
   "cell_type": "code",
   "execution_count": null,
   "id": "b6ed8bbb",
   "metadata": {},
   "outputs": [],
   "source": [
    "texto2 = 'hauhAHUHhauhHAUHUHushiAUSHauhsUAHuahiAUHSaushUA'\n",
    "print(texto2.upper())\n",
    "print(texto2.lower())"
   ]
  },
  {
   "cell_type": "code",
   "execution_count": null,
   "id": "87258ddf",
   "metadata": {
    "id": "87258ddf"
   },
   "outputs": [],
   "source": [
    "texto = \"Python é Demais!\"\n",
    "print(texto.lower())   # \"python é demais!\"\n",
    "print(texto.upper())   # \"PYTHON É DEMAIS!\""
   ]
  },
  {
   "cell_type": "markdown",
   "id": "926010d9",
   "metadata": {
    "id": "926010d9"
   },
   "source": [
    "b) Substituição"
   ]
  },
  {
   "cell_type": "code",
   "execution_count": null,
   "id": "d17e64d6",
   "metadata": {
    "id": "d17e64d6"
   },
   "outputs": [],
   "source": [
    "mensagem = \"Eu odeio segunda-feira\"\n",
    "print(mensagem.replace(\"odeio\", \"adoro\"))  # \"Eu adoro segunda-feira\""
   ]
  },
  {
   "cell_type": "markdown",
   "id": "bf5e453f",
   "metadata": {
    "id": "bf5e453f"
   },
   "source": [
    "c) Divisão de Strings"
   ]
  },
  {
   "cell_type": "code",
   "execution_count": null,
   "id": "7e997181",
   "metadata": {},
   "outputs": [],
   "source": [
    "print(type(mensagem))\n",
    "mensagem = mensagem.split()\n",
    "print(mensagem)\n",
    "print(type(mensagem))\n",
    "print(mensagem[0])"
   ]
  },
  {
   "cell_type": "code",
   "execution_count": null,
   "id": "164d4642",
   "metadata": {
    "id": "164d4642",
    "outputId": "a9b64775-e718-4345-9d15-0f14d25792bd"
   },
   "outputs": [],
   "source": [
    "hashtags = \"python#programação#jovens\"\n",
    "print(hashtags.split(\"#\"))  # [\"python\", \"programação\", \"jovens\"]"
   ]
  },
  {
   "cell_type": "code",
   "execution_count": null,
   "id": "e51005be",
   "metadata": {},
   "outputs": [],
   "source": [
    "email = 'mateus@gmail.com'\n",
    "email = 'professor@santanadeparnaiba.com'\n",
    "email.split(\"@\")"
   ]
  },
  {
   "cell_type": "code",
   "execution_count": null,
   "id": "3ea99765",
   "metadata": {
    "id": "3ea99765"
   },
   "outputs": [],
   "source": [
    "ache_a_frase = \"o1professor1de1python1é1o1melhor\"\n",
    "#ache_a_frase.replace('1',' ')\n",
    "lista = ache_a_frase.split('1')\n"
   ]
  },
  {
   "cell_type": "markdown",
   "id": "76a1722a",
   "metadata": {
    "id": "76a1722a"
   },
   "source": [
    "d) Remoção de Espaços"
   ]
  },
  {
   "cell_type": "code",
   "execution_count": null,
   "id": "84eb0e89",
   "metadata": {
    "id": "84eb0e89"
   },
   "outputs": [],
   "source": [
    "user_input = \"   olá   \"\n",
    "print(user_input.strip())  # \"olá\" (remove espaços extras)"
   ]
  },
  {
   "cell_type": "code",
   "execution_count": null,
   "id": "6c279dc5",
   "metadata": {
    "id": "6c279dc5"
   },
   "outputs": [],
   "source": [
    "carro = 'bmw'\n",
    "\n",
    "print( carro == ' bmw '.strip())"
   ]
  },
  {
   "cell_type": "markdown",
   "id": "f2ab3244",
   "metadata": {
    "id": "f2ab3244"
   },
   "source": [
    "### 4 - Primeiro Desafio: Criar um \"Gerador de Username\" que:\n",
    "\n",
    "Pede o nome completo do usuário;\n",
    "\n",
    "Gera um username no formato nome.ultimonome (minúsculas, sem espaços)."
   ]
  },
  {
   "cell_type": "code",
   "execution_count": null,
   "id": "f43a2dfe",
   "metadata": {
    "id": "f43a2dfe"
   },
   "outputs": [],
   "source": []
  },
  {
   "cell_type": "markdown",
   "id": "25399d2d",
   "metadata": {
    "id": "25399d2d"
   },
   "source": [
    "### Segundo Desafio"
   ]
  },
  {
   "cell_type": "markdown",
   "id": "e790bc58",
   "metadata": {
    "id": "e790bc58"
   },
   "source": [
    "Verificar se uma senha tem pelo menos 8 caracteres:"
   ]
  },
  {
   "cell_type": "code",
   "execution_count": null,
   "id": "2d9ff656",
   "metadata": {
    "id": "2d9ff656"
   },
   "outputs": [],
   "source": []
  },
  {
   "cell_type": "markdown",
   "id": "a58aa74f",
   "metadata": {
    "id": "a58aa74f"
   },
   "source": [
    "### 5. Exercício Final (Para Casa)\n",
    "\n",
    "Crie um \"Tradutor de Internetês\":\n",
    "\n",
    "Substitui palavras por abreviações (ex: \"você\" → \"vc\", \"tamo junto\" → \"tmj\").\n",
    "\n",
    "Dica: Use .replace() múltiplas vezes!"
   ]
  },
  {
   "cell_type": "code",
   "execution_count": null,
   "id": "abf41fae",
   "metadata": {
    "id": "abf41fae"
   },
   "outputs": [],
   "source": []
  },
  {
   "cell_type": "markdown",
   "id": "babd7a7c",
   "metadata": {
    "id": "babd7a7c"
   },
   "source": [
    "### 6. Conclusão\n",
    "Recapitulação:\n",
    "\n",
    "Strings são textos delimitados por aspas.\n",
    "\n",
    "Podemos acessar letras, fatiar, converter, dividir e muito mais!\n",
    "\n",
    "Próxima Aula:\n",
    "\n",
    "Trabalhar com listas e loops em strings (ex: contar vogais).\n",
    "\n",
    "Feedback:\n",
    "\n",
    "\"O que vocês acharam mais útil? Alguma dúvida para tirar?\""
   ]
  }
 ],
 "metadata": {
  "colab": {
   "provenance": []
  },
  "kernelspec": {
   "display_name": "Python 3",
   "language": "python",
   "name": "python3"
  },
  "language_info": {
   "codemirror_mode": {
    "name": "ipython",
    "version": 3
   },
   "file_extension": ".py",
   "mimetype": "text/x-python",
   "name": "python",
   "nbconvert_exporter": "python",
   "pygments_lexer": "ipython3",
   "version": "3.13.2"
  }
 },
 "nbformat": 4,
 "nbformat_minor": 5
}
