{
 "cells": [
  {
   "cell_type": "markdown",
   "id": "031610b9",
   "metadata": {},
   "source": [
    "# PyAutoGui\n",
    "\n"
   ]
  },
  {
   "cell_type": "markdown",
   "id": "aa933be0",
   "metadata": {},
   "source": [
    "O PyAutoGUI é uma biblioteca Python que permite automatizar ações do teclado e do mouse. Com ela, você pode simular cliques, digitação, movimentos do cursor e até tirar capturas de tela.\n",
    "\n",
    "É como um robô controlado por Python, que faz o que você mandaria seu mouse ou teclado fazer — só que automaticamente."
   ]
  },
  {
   "cell_type": "markdown",
   "id": "50aad23d",
   "metadata": {},
   "source": [
    "#  O que é possível fazer com PyAutoGUI?"
   ]
  },
  {
   "cell_type": "markdown",
   "id": "8a1cbfc1",
   "metadata": {},
   "source": [
    "Com o PyAutoGUI, você pode:\n",
    "\n",
    "- Mover o mouse para qualquer parte da tela\n",
    "- Clicar, clicar duplo ou clicar com o botão direito\n",
    "- Digitar texto automaticamente\n",
    "- Apertar teclas do teclado (como Enter, Ctrl, Esc...)\n",
    "- Capturar a tela (screenshot)\n",
    "- Criar bots simples para jogos, automatizar tarefas repetitivas, preencher formulários etc."
   ]
  },
  {
   "cell_type": "markdown",
   "id": "4c47e0f8",
   "metadata": {},
   "source": [
    "## ❌ Limitações do PyAutoGUI\n",
    "Apesar de útil, o PyAutoGUI tem algumas limitações:\n",
    "\n",
    "Não interage diretamente com o conteúdo da tela (ele não “entende” o que está vendo).\n",
    "\n",
    "É sensível a mudanças na tela: se a posição ou imagem mudar, o script pode falhar.\n",
    "\n",
    "Não funciona bem em ambientes que usam proteção contra automação (como certos jogos ou apps de segurança).\n",
    "\n",
    "Pode ser bloqueado por antivírus ou firewalls.\n",
    "\n",
    "Não é o ideal para automações complexas (para isso, outras ferramentas como Selenium, Pywinauto ou AutoHotkey podem ser melhores)."
   ]
  },
  {
   "cell_type": "markdown",
   "id": "c4b14cb8",
   "metadata": {},
   "source": [
    "## 📋 Tabela com Principais Comandos do PyAutoGUI"
   ]
  },
  {
   "cell_type": "markdown",
   "id": "3bf8ffdb",
   "metadata": {},
   "source": [
    "| Comando                         | O que faz                                | Exemplo                       |\n",
    "| ------------------------------- | ---------------------------------------- | ----------------------------- |\n",
    "| `pyautogui.moveTo(x, y)`        | Move o mouse para a posição (x, y)       | `moveTo(500, 300)`            |\n",
    "| `pyautogui.click()`             | Clica na posição atual do mouse          | `click()`                     |\n",
    "| `pyautogui.click(x, y)`         | Clica na posição (x, y)                  | `click(400, 500)`             |\n",
    "| `pyautogui.doubleClick()`       | Clica duas vezes rapidamente             | `doubleClick()`               |\n",
    "| `pyautogui.rightClick()`        | Clica com o botão direito do mouse       | `rightClick()`                |\n",
    "| `pyautogui.typewrite(text)`     | Digita um texto como se fosse no teclado | `typewrite(\"Olá mundo\")`      |\n",
    "| `pyautogui.press('enter')`      | Pressiona uma tecla específica           | `press('enter')`              |\n",
    "| `pyautogui.hotkey('ctrl', 's')` | Pressiona um atalho de teclas            | `hotkey('ctrl', 's')`         |\n",
    "| `pyautogui.screenshot()`        | Tira um print da tela                    | `screenshot(\"imagem.png\")`    |\n",
    "| `pyautogui.locateOnScreen()`    | Procura uma imagem na tela               | `locateOnScreen(\"botao.png\")` |\n",
    "\n"
   ]
  },
  {
   "cell_type": "markdown",
   "id": "f104856b",
   "metadata": {},
   "source": []
  }
 ],
 "metadata": {
  "language_info": {
   "name": "python"
  }
 },
 "nbformat": 4,
 "nbformat_minor": 5
}
