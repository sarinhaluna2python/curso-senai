{
 "cells": [
  {
   "cell_type": "markdown",
   "id": "a7c215da",
   "metadata": {},
   "source": [
    "| Função        | O que faz                                              | Exemplo de uso               | Resultado                     |\n",
    "| ------------- | ------------------------------------------------------ | ---------------------------- | ----------------------------- |\n",
    "| `print()`     | Exibe uma mensagem na tela                             | `print('Olá')`               | `Olá`                         |\n",
    "| `len()`       | Retorna o tamanho de uma sequência (número de itens)   | `len('Python')`              | `6`                           |\n",
    "| `type()`      | Mostra o tipo de dado                                  | `type(42)`                   | `<class 'int'>`               |\n",
    "| `int()`       | Converte para inteiro                                  | `int('10')`                  | `10`                          |\n",
    "| `float()`     | Converte para número decimal                           | `float('3.14')`              | `3.14`                        |\n",
    "| `str()`       | Converte para string                                   | `str(123)`                   | `'123'`                       |\n",
    "| `input()`     | Recebe dados do usuário via teclado                    | `input('Digite algo: ')`     | Espera o usuário digitar algo |\n",
    "| `sum()`       | Soma os elementos de uma lista                         | `sum([1, 2, 3])`             | `6`                           |\n",
    "| `max()`       | Retorna o maior valor                                  | `max([5, 3, 9])`             | `9`                           |\n",
    "| `min()`       | Retorna o menor valor                                  | `min([5, 3, 9])`             | `3`                           |\n",
    "| `range()`     | Cria uma sequência de números (usado em laços `for`)   | `list(range(3))`             | `[0, 1, 2]`                   |\n",
    "| `enumerate()` | Retorna índices e valores de uma sequência             | `for i, v in enumerate(...)` | índice e valor                |\n",
    "| `zip()`       | Junta elementos de duas ou mais listas                 | `list(zip(['a'], [1]))`      | `[('a', 1)]`                  |\n",
    "| `list()`      | Converte algo em uma lista                             | `list('abc')`                | `['a', 'b', 'c']`             |\n",
    "| `dict()`      | Cria um dicionário                                     | `dict(a=1, b=2)`             | `{'a': 1, 'b': 2}`            |\n",
    "| `set()`       | Cria um conjunto (sem repetições)                      | `set([1, 1, 2])`             | `{1, 2}`                      |\n",
    "| `sorted()`    | Retorna uma nova lista ordenada                        | `sorted([3, 1, 2])`          | `[1, 2, 3]`                   |\n",
    "| `reversed()`  | Retorna um iterador com os elementos ao contrário      | `list(reversed([1, 2, 3]))`  | `[3, 2, 1]`                   |\n",
    "| `help()`      | Abre a ajuda do Python                                 | `help(str)`                  | Explicação sobre strings      |\n",
    "| `round()`     | Arredonda um número                                    | `round(3.1415, 2)`           | `3.14`                        |\n",
    "| `abs()`       | Retorna o valor absoluto (sem sinal)                   | `abs(-5)`                    | `5`                           |\n",
    "| `bool()`      | Converte para booleano                                 | `bool('')`                   | `False`                       |\n",
    "| `all()`       | Retorna `True` se todos os elementos forem verdadeiros | `all([True, True])`          | `True`                        |\n",
    "| `any()`       | Retorna `True` se algum elemento for verdadeiro        | `any([False, True])`         | `True`                        |\n"
   ]
  },
  {
   "cell_type": "markdown",
   "id": "db0999cd",
   "metadata": {},
   "source": []
  }
 ],
 "metadata": {
  "language_info": {
   "name": "python"
  }
 },
 "nbformat": 4,
 "nbformat_minor": 5
}
