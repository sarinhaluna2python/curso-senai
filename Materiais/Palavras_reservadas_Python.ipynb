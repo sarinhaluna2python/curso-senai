{
 "cells": [
  {
   "cell_type": "markdown",
   "id": "8c055ba2",
   "metadata": {},
   "source": [
    "| Palavra-chave | O que faz                                                   | Exemplo de uso             |\n",
    "| ------------- | ----------------------------------------------------------- | -------------------------- |\n",
    "| `if`          | Inicia uma condição                                         | `if x > 10:`               |\n",
    "| `else`        | Bloco executado se a condição do `if` for falsa             | `else:`                    |\n",
    "| `elif`        | \"Senão se\", usado entre `if` e `else`                       | `elif x == 10:`            |\n",
    "| `while`       | Laço de repetição baseado em uma condição                   | `while x < 5:`             |\n",
    "| `for`         | Laço de repetição sobre uma sequência                       | `for item in lista:`       |\n",
    "| `in`          | Verifica se algo está dentro de uma sequência               | `if 'a' in palavra:`       |\n",
    "| `not`         | Negação lógica                                              | `if not ativo:`            |\n",
    "| `and`         | Conjunção lógica                                            | `if a > 1 and b < 5:`      |\n",
    "| `or`          | Disjunção lógica                                            | `if a == 0 or b == 0:`     |\n",
    "| `def`         | Define uma função                                           | `def saudacao():`          |\n",
    "| `return`      | Retorna um valor de uma função                              | `return resultado`         |\n",
    "| `import`      | Importa módulos ou bibliotecas                              | `import math`              |\n",
    "| `from`        | Importa algo específico de um módulo                        | `from math import pi`      |\n",
    "| `as`          | Dá um apelido para um módulo                                | `import pandas as pd`      |\n",
    "| `pass`        | Bloco vazio (sem fazer nada, só ocupa o lugar)              | `if x > 5: pass`           |\n",
    "| `break`       | Interrompe um laço                                          | `break`                    |\n",
    "| `continue`    | Pula para a próxima volta do laço                           | `continue`                 |\n",
    "| `class`       | Define uma classe (POO)                                     | `class Pessoa:`            |\n",
    "| `try`         | Inicia um bloco de tratamento de erro                       | `try:`                     |\n",
    "| `except`      | Bloco executado se ocorrer erro no `try`                    | `except ValueError:`       |\n",
    "| `finally`     | Executado no final do `try/except`, com ou sem erro         | `finally:`                 |\n",
    "| `raise`       | Lança uma exceção                                           | `raise ValueError('Erro')` |\n",
    "| `True`        | Valor booleano verdadeiro                                   | `ativo = True`             |\n",
    "| `False`       | Valor booleano falso                                        | `ativo = False`            |\n",
    "| `None`        | Valor nulo / vazio                                          | `resposta = None`          |\n",
    "| `is`          | Verifica identidade (mesmo objeto na memória)               | `if x is None:`            |\n",
    "| `lambda`      | Cria funções anônimas                                       | `lambda x: x*2`            |\n",
    "| `global`      | Declara que uma variável é global (fora da função)          | `global total`             |\n",
    "| `nonlocal`    | Refere-se a uma variável em um escopo acima, mas não global | `nonlocal contador`        |\n"
   ]
  },
  {
   "cell_type": "code",
   "execution_count": null,
   "id": "eb9d3280",
   "metadata": {},
   "outputs": [],
   "source": []
  }
 ],
 "metadata": {
  "kernelspec": {
   "display_name": "Python 3",
   "language": "python",
   "name": "python3"
  },
  "language_info": {
   "codemirror_mode": {
    "name": "ipython",
    "version": 3
   },
   "file_extension": ".py",
   "mimetype": "text/x-python",
   "name": "python",
   "nbconvert_exporter": "python",
   "pygments_lexer": "ipython3",
   "version": "3.13.2"
  }
 },
 "nbformat": 4,
 "nbformat_minor": 5
}
