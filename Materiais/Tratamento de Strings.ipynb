{
 "cells": [
  {
   "cell_type": "markdown",
   "id": "423a416a",
   "metadata": {
    "id": "423a416a"
   },
   "source": [
    "### Tratamentos de Texto (string)\n",
    "\n",
    "Objetivo: Mostrar a importância de manipular textos em programação.\n",
    "\n",
    "\n",
    "\n",
    "\"Vocês já pensaram como os apps sabem seu nome quando você faz login? Ou como o Instagram mostra seu username em letras minúsculas? Tudo isso usa tratamento de strings!\"\n",
    "\n",
    "O que é uma String?\n",
    "\n",
    "Sequência de caracteres (letras, números, símbolos).\n",
    "\n",
    "Em Python, vem entre \"aspas\"."
   ]
  },
  {
   "cell_type": "markdown",
   "id": "877e43f3",
   "metadata": {},
   "source": [
    "### Formatação de strings (f-string)"
   ]
  },
  {
   "cell_type": "code",
   "execution_count": 1,
   "id": "4e14e147",
   "metadata": {},
   "outputs": [
    {
     "name": "stdout",
     "output_type": "stream",
     "text": [
      "Olá Leticia. Você está estudando Python\n"
     ]
    }
   ],
   "source": [
    "nome = 'Leticia'\n",
    "curso = 'Python'\n",
    "string_formatada = f'Olá {nome}. Você está estudando {curso}'\n",
    "print(string_formatada)"
   ]
  },
  {
   "cell_type": "markdown",
   "id": "edbcd67b",
   "metadata": {},
   "source": [
    "### Formatação de strings (.format())"
   ]
  },
  {
   "cell_type": "code",
   "execution_count": 2,
   "id": "fe581fe4",
   "metadata": {},
   "outputs": [
    {
     "name": "stdout",
     "output_type": "stream",
     "text": [
      "Olá Johnny. Você está estudando Python\n"
     ]
    }
   ],
   "source": [
    "nome = 'Johnny'\n",
    "curso = 'Python'\n",
    "string_formatada = 'Olá {}. Você está estudando {}'.format(nome, curso)\n",
    "print(string_formatada)"
   ]
  },
  {
   "cell_type": "markdown",
   "id": "5f38bab9",
   "metadata": {
    "id": "5f38bab9"
   },
   "source": [
    "### 2 - Operações Básicas com strings (textos)\n",
    "\n",
    "a) Juntar textos ou em outras palavras concatenar"
   ]
  },
  {
   "cell_type": "code",
   "execution_count": 2,
   "id": "5cd6b8e7",
   "metadata": {
    "id": "5cd6b8e7",
    "outputId": "eb36e80a-06d3-415f-e35b-356956ddaf56"
   },
   "outputs": [
    {
     "name": "stdout",
     "output_type": "stream",
     "text": [
      "Mateus Silva\n"
     ]
    }
   ],
   "source": [
    "nome = \"Mateus\"\n",
    "sobrenome = \"Silva\"\n",
    "nome_completo = nome + \" \" + sobrenome\n",
    "print(nome_completo)"
   ]
  },
  {
   "cell_type": "markdown",
   "id": "f2fddf3a",
   "metadata": {
    "id": "f2fddf3a"
   },
   "source": [
    "b) Tamanho da String\n"
   ]
  },
  {
   "cell_type": "code",
   "execution_count": 3,
   "id": "1a01fe4d",
   "metadata": {
    "id": "1a01fe4d",
    "outputId": "04d170c8-ea4c-460d-fd55-1f5b4dcf3659"
   },
   "outputs": [
    {
     "name": "stdout",
     "output_type": "stream",
     "text": [
      "5\n"
     ]
    }
   ],
   "source": [
    "nome = 'Sarah'\n",
    "tamanho = len(nome) \n",
    "print(tamanho)"
   ]
  },
  {
   "cell_type": "markdown",
   "id": "6222c7c4",
   "metadata": {
    "id": "6222c7c4"
   },
   "source": [
    "c) Acessar Letras (Índices)"
   ]
  },
  {
   "cell_type": "code",
   "execution_count": 8,
   "id": "ea430c45",
   "metadata": {},
   "outputs": [
    {
     "data": {
      "text/plain": [
       "'S'"
      ]
     },
     "execution_count": 8,
     "metadata": {},
     "output_type": "execute_result"
    }
   ],
   "source": [
    "nome[0]"
   ]
  },
  {
   "cell_type": "code",
   "execution_count": 10,
   "id": "21af5f71",
   "metadata": {
    "id": "21af5f71"
   },
   "outputs": [
    {
     "name": "stdout",
     "output_type": "stream",
     "text": [
      "O\n",
      "o\n"
     ]
    }
   ],
   "source": [
    "frase = \"Olá meus garotos(as) de Programação\"\n",
    "print(frase[0])   # 'O' (primeira letra)\n",
    "print(frase[-1])  # 'o' (última letra)"
   ]
  },
  {
   "cell_type": "markdown",
   "id": "05b42fdb",
   "metadata": {
    "id": "05b42fdb"
   },
   "source": [
    "d) Fatiamento (Slicing)"
   ]
  },
  {
   "cell_type": "code",
   "execution_count": 11,
   "id": "d04f5b88",
   "metadata": {},
   "outputs": [
    {
     "name": "stdout",
     "output_type": "stream",
     "text": [
      "24\n"
     ]
    }
   ],
   "source": [
    "frase = 'Fábrica de programadores'\n",
    "print(len(frase))"
   ]
  },
  {
   "cell_type": "markdown",
   "id": "1705d441",
   "metadata": {},
   "source": [
    "frase[início:fim]"
   ]
  },
  {
   "cell_type": "code",
   "execution_count": 15,
   "id": "9d79fa9b",
   "metadata": {},
   "outputs": [
    {
     "data": {
      "text/plain": [
       "'Fábrica'"
      ]
     },
     "execution_count": 15,
     "metadata": {},
     "output_type": "execute_result"
    }
   ],
   "source": [
    "frase[:7]"
   ]
  },
  {
   "cell_type": "code",
   "execution_count": 16,
   "id": "baef3b04",
   "metadata": {},
   "outputs": [
    {
     "name": "stdout",
     "output_type": "stream",
     "text": [
      "Fábri\n",
      "ica \n",
      "e\n",
      "Fábrica d\n",
      "a de programadores\n"
     ]
    }
   ],
   "source": [
    "print(frase[0:5])\n",
    "print(frase[4:8])\n",
    "print(frase[9])\n",
    "print(frase[:9])\n",
    "print(frase[6:])"
   ]
  },
  {
   "cell_type": "code",
   "execution_count": 17,
   "id": "50f44874",
   "metadata": {
    "id": "50f44874"
   },
   "outputs": [
    {
     "name": "stdout",
     "output_type": "stream",
     "text": [
      "mateus@\n",
      "mail.\n"
     ]
    }
   ],
   "source": [
    "email = \"mateus@gmail.com\"\n",
    "print(email[:7])    # \"mateus\" (do início até o índice 6)\n",
    "print(email[8:13])  # \"gmail\" (do índice 8 ao 12)"
   ]
  },
  {
   "cell_type": "markdown",
   "id": "6f09cf29",
   "metadata": {
    "id": "6f09cf29"
   },
   "source": [
    "### 3. Métodos Úteis"
   ]
  },
  {
   "cell_type": "code",
   "execution_count": null,
   "id": "204f294e",
   "metadata": {},
   "outputs": [
    {
     "data": {
      "text/plain": [
       "'oi'"
      ]
     },
     "execution_count": 18,
     "metadata": {},
     "output_type": "execute_result"
    }
   ],
   "source": [
    "'OI'.lower()"
   ]
  },
  {
   "cell_type": "markdown",
   "id": "0f891d89",
   "metadata": {
    "id": "0f891d89"
   },
   "source": [
    "a) Conversão de minúsculas para maiúsculas"
   ]
  },
  {
   "cell_type": "code",
   "execution_count": 19,
   "id": "87ea68e5",
   "metadata": {},
   "outputs": [
    {
     "data": {
      "text/plain": [
       "'MATEUS@GMAIL.COM'"
      ]
     },
     "execution_count": 19,
     "metadata": {},
     "output_type": "execute_result"
    }
   ],
   "source": [
    "email.upper()"
   ]
  },
  {
   "cell_type": "code",
   "execution_count": 20,
   "id": "b6ed8bbb",
   "metadata": {},
   "outputs": [
    {
     "name": "stdout",
     "output_type": "stream",
     "text": [
      "HAUHAHUHHAUHHAUHUHUSHIAUSHAUHSUAHUAHIAUHSAUSHUA\n",
      "hauhahuhhauhhauhuhushiaushauhsuahuahiauhsaushua\n"
     ]
    }
   ],
   "source": [
    "texto2 = 'hauhAHUHhauhHAUHUHushiAUSHauhsUAHuahiAUHSaushUA'\n",
    "print(texto2.upper())\n",
    "print(texto2.lower())"
   ]
  },
  {
   "cell_type": "code",
   "execution_count": 21,
   "id": "87258ddf",
   "metadata": {
    "id": "87258ddf"
   },
   "outputs": [
    {
     "name": "stdout",
     "output_type": "stream",
     "text": [
      "python é demais!\n",
      "PYTHON É DEMAIS!\n"
     ]
    }
   ],
   "source": [
    "texto = \"Python é Demais!\"\n",
    "print(texto.lower())   # \"python é demais!\"\n",
    "print(texto.upper())   # \"PYTHON É DEMAIS!\""
   ]
  },
  {
   "cell_type": "markdown",
   "id": "926010d9",
   "metadata": {
    "id": "926010d9"
   },
   "source": [
    "b) Substituição"
   ]
  },
  {
   "cell_type": "code",
   "execution_count": 22,
   "id": "d17e64d6",
   "metadata": {
    "id": "d17e64d6"
   },
   "outputs": [
    {
     "name": "stdout",
     "output_type": "stream",
     "text": [
      "Eu adoro segunda-feira\n"
     ]
    }
   ],
   "source": [
    "mensagem = \"Eu odeio segunda-feira\"\n",
    "print(mensagem.replace(\"odeio\", \"adoro\"))  # \"Eu adoro segunda-feira\""
   ]
  },
  {
   "cell_type": "markdown",
   "id": "bf5e453f",
   "metadata": {
    "id": "bf5e453f"
   },
   "source": [
    "c) Divisão de Strings"
   ]
  },
  {
   "cell_type": "code",
   "execution_count": 23,
   "id": "7e997181",
   "metadata": {},
   "outputs": [
    {
     "name": "stdout",
     "output_type": "stream",
     "text": [
      "<class 'str'>\n",
      "['Eu', 'odeio', 'segunda-feira']\n",
      "<class 'list'>\n",
      "Eu\n"
     ]
    }
   ],
   "source": [
    "print(type(mensagem))\n",
    "mensagem = mensagem.split()\n",
    "print(mensagem)\n",
    "print(type(mensagem))\n",
    "print(mensagem[0])"
   ]
  },
  {
   "cell_type": "code",
   "execution_count": 24,
   "id": "d172ae42",
   "metadata": {},
   "outputs": [
    {
     "data": {
      "text/plain": [
       "'segunda-feira'"
      ]
     },
     "execution_count": 24,
     "metadata": {},
     "output_type": "execute_result"
    }
   ],
   "source": [
    "mensagem[-1]"
   ]
  },
  {
   "cell_type": "code",
   "execution_count": 25,
   "id": "164d4642",
   "metadata": {
    "id": "164d4642",
    "outputId": "a9b64775-e718-4345-9d15-0f14d25792bd"
   },
   "outputs": [
    {
     "name": "stdout",
     "output_type": "stream",
     "text": [
      "['python', 'programação', 'jovens']\n"
     ]
    }
   ],
   "source": [
    "hashtags = \"python#programação#jovens\"\n",
    "print(hashtags.split(\"#\"))  # [\"python\", \"programação\", \"jovens\"]"
   ]
  },
  {
   "cell_type": "code",
   "execution_count": 33,
   "id": "e51005be",
   "metadata": {},
   "outputs": [
    {
     "data": {
      "text/plain": [
       "'fabrica.santanadeparnaiba'"
      ]
     },
     "execution_count": 33,
     "metadata": {},
     "output_type": "execute_result"
    }
   ],
   "source": [
    "email = 'mateus@gmail.com'\n",
    "email = 'professor@santanadeparnaiba.com'\n",
    "email = 'johnny.44898@fabrica.santanadeparnaiba.sp.gov.br'\n",
    "email.split(\"@\")[1][:-10]"
   ]
  },
  {
   "cell_type": "code",
   "execution_count": 34,
   "id": "3ea99765",
   "metadata": {
    "id": "3ea99765"
   },
   "outputs": [
    {
     "name": "stdout",
     "output_type": "stream",
     "text": [
      "['o', 'professor', 'de', 'python', 'é', 'o', 'melhor']\n"
     ]
    }
   ],
   "source": [
    "ache_a_frase = \"o1professor1de1python1é1o1melhor\"\n",
    "string = ache_a_frase.replace('1',' ')\n",
    "lista = ache_a_frase.split('1')\n",
    "print(lista)\n"
   ]
  },
  {
   "cell_type": "markdown",
   "id": "76a1722a",
   "metadata": {
    "id": "76a1722a"
   },
   "source": [
    "d) Remoção de Espaços"
   ]
  },
  {
   "cell_type": "code",
   "execution_count": 35,
   "id": "84eb0e89",
   "metadata": {
    "id": "84eb0e89"
   },
   "outputs": [
    {
     "name": "stdout",
     "output_type": "stream",
     "text": [
      "olá\n"
     ]
    }
   ],
   "source": [
    "user_input = \"   olá   \"\n",
    "print(user_input.strip())  # \"olá\" (remove espaços extras)"
   ]
  },
  {
   "cell_type": "code",
   "execution_count": 39,
   "id": "6c279dc5",
   "metadata": {
    "id": "6c279dc5"
   },
   "outputs": [
    {
     "name": "stdout",
     "output_type": "stream",
     "text": [
      "True\n"
     ]
    }
   ],
   "source": [
    "carro = 'bmw'\n",
    "\n",
    "print( carro == ' bmw '.strip())"
   ]
  },
  {
   "cell_type": "markdown",
   "id": "e9af6e97",
   "metadata": {},
   "source": [
    "| Método          | O que faz                                                 | Exemplo                                  | Resultado                   |\n",
    "| --------------- | --------------------------------------------------------- | ---------------------------------------- | --------------------------- |\n",
    "| `.lower()`      | Converte todos os caracteres para minúsculas              | `'Python'.lower()`                       | `'python'`                  |\n",
    "| `.upper()`      | Converte todos os caracteres para maiúsculas              | `'Python'.upper()`                       | `'PYTHON'`                  |\n",
    "| `.capitalize()` | Coloca a primeira letra em maiúscula                      | `'python é legal'.capitalize()`          | `'Python é legal'`          |\n",
    "| `.title()`      | Coloca a primeira letra de cada palavra em maiúscula      | `'python é legal'.title()`               | `'Python É Legal'`          |\n",
    "| `.strip()`      | Remove espaços em branco do início e do fim               | `'  oi  '.strip()`                       | `'oi'`                      |\n",
    "| `.replace()`    | Substitui um trecho da string por outro                   | `'Olá mundo'.replace('mundo', 'Python')` | `'Olá Python'`              |\n",
    "| `.split()`      | Divide a string em partes, usando um separador            | `'maçã,banana,uva'.split(',')`           | `['maçã', 'banana', 'uva']` |\n",
    "| `.join()`       | Junta uma lista de strings em uma só, usando um separador | `'-'.join(['A', 'B', 'C'])`              | `'A-B-C'`                   |\n",
    "| `.startswith()` | Verifica se a string começa com determinado texto         | `'banana'.startswith('ba')`              | `True`                      |\n",
    "| `.endswith()`   | Verifica se a string termina com determinado texto        | `'banana'.endswith('na')`                | `True`                      |\n",
    "| `.find()`       | Retorna o índice da primeira ocorrência de um texto       | `'abacate'.find('ca')`                   | `3`                         |\n",
    "| `.count()`      | Conta quantas vezes um trecho aparece na string           | `'banana'.count('a')`                    | `3`                         |\n",
    "| `.isdigit()`    | Verifica se a string contém apenas dígitos                | `'123'.isdigit()`                        | `True`                      |\n",
    "| `.isalpha()`    | Verifica se a string contém apenas letras                 | `'abc'.isalpha()`                        | `True`                      |\n"
   ]
  },
  {
   "cell_type": "markdown",
   "id": "f2ab3244",
   "metadata": {
    "id": "f2ab3244"
   },
   "source": [
    "### 4 - Primeiro Desafio: Criar um \"Gerador de Username\" que:\n",
    "\n",
    "Pede o nome completo do usuário;\n",
    "\n",
    "Gera um username no formato nome.ultimonome (minúsculas, sem espaços)."
   ]
  },
  {
   "cell_type": "code",
   "execution_count": 8,
   "id": "f43a2dfe",
   "metadata": {
    "id": "f43a2dfe"
   },
   "outputs": [
    {
     "name": "stdout",
     "output_type": "stream",
     "text": [
      "sarah.feitosa\n"
     ]
    }
   ],
   "source": [
    "nome = input('| informe o seu nome completo:').lower().strip().split()\n",
    "print(f'{nome[0]}.{nome[-1]}')"
   ]
  },
  {
   "cell_type": "markdown",
   "id": "25399d2d",
   "metadata": {
    "id": "25399d2d"
   },
   "source": [
    "### Segundo Desafio"
   ]
  },
  {
   "cell_type": "markdown",
   "id": "e790bc58",
   "metadata": {
    "id": "e790bc58"
   },
   "source": [
    "Verificar se uma senha tem pelo menos 8 caracteres:"
   ]
  },
  {
   "cell_type": "code",
   "execution_count": 1,
   "id": "2d9ff656",
   "metadata": {
    "id": "2d9ff656"
   },
   "outputs": [
    {
     "name": "stdout",
     "output_type": "stream",
     "text": [
      "8\n"
     ]
    }
   ],
   "source": [
    "senha=input(' Digiter a senha:')\n",
    "print(len(senha))"
   ]
  },
  {
   "cell_type": "markdown",
   "id": "a58aa74f",
   "metadata": {
    "id": "a58aa74f"
   },
   "source": [
    "### 5. Exercício Final (Para Casa)\n",
    "\n",
    "Crie um \"Tradutor de Internetês\":\n",
    "\n",
    "Substitui palavras por abreviações (ex: \"você\" → \"vc\", \"tamo junto\" → \"tmj\").\n",
    "\n",
    "Dica: Use .replace() múltiplas vezes!"
   ]
  },
  {
   "cell_type": "code",
   "execution_count": null,
   "id": "abf41fae",
   "metadata": {
    "id": "abf41fae"
   },
   "outputs": [
    {
     "name": "stdout",
     "output_type": "stream",
     "text": [
      "vc é muito chata\n"
     ]
    }
   ],
   "source": [
    "\n",
    "palavras = \"você\" \n",
    "frase = 'você é muito legal!'\n",
    "print(frase.replace(\"você\", \"vc\"))"
   ]
  },
  {
   "cell_type": "markdown",
   "id": "babd7a7c",
   "metadata": {
    "id": "babd7a7c"
   },
   "source": [
    "### 6. Conclusão\n",
    "Recapitulação:\n",
    "\n",
    "Strings são textos delimitados por aspas.\n",
    "\n",
    "Podemos acessar letras, fatiar, converter, dividir e muito mais!\n",
    "\n",
    "Próxima Aula:\n",
    "\n",
    "Trabalhar com listas e loops em strings (ex: contar vogais).\n",
    "\n",
    "Feedback:\n",
    "\n",
    "\"O que vocês acharam mais útil? Alguma dúvida para tirar?\""
   ]
  }
 ],
 "metadata": {
  "colab": {
   "provenance": []
  },
  "kernelspec": {
   "display_name": "Python 3",
   "language": "python",
   "name": "python3"
  },
  "language_info": {
   "codemirror_mode": {
    "name": "ipython",
    "version": 3
   },
   "file_extension": ".py",
   "mimetype": "text/x-python",
   "name": "python",
   "nbconvert_exporter": "python",
   "pygments_lexer": "ipython3",
   "version": "3.13.2"
  }
 },
 "nbformat": 4,
 "nbformat_minor": 5
}
